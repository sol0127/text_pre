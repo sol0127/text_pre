{
 "cells": [
  {
   "cell_type": "code",
   "execution_count": 1,
   "id": "87d61b64",
   "metadata": {},
   "outputs": [
    {
     "data": {
      "text/plain": [
       "'누구나 Aiot 수업에서 텍스트 전처리 과정을 배웠다'"
      ]
     },
     "execution_count": 1,
     "metadata": {},
     "output_type": "execute_result"
    }
   ],
   "source": [
    "import re #정규표현식 \n",
    "\n",
    "text = '누구나 Aiot 수업에서^^ 텍스트 전처리 과정을 배웠다(__)'\n",
    "\n",
    "text = re.sub('[-=+_,#/\\?:^$.@*\\\"※~&%ㆍ!』\\\\‘|\\(\\)\\[\\]\\<\\>`\\'…》\\xa0\\n\\d+]', '', text)\n",
    "text"
   ]
  },
  {
   "cell_type": "code",
   "execution_count": 8,
   "id": "60fe7804",
   "metadata": {},
   "outputs": [
    {
     "name": "stdout",
     "output_type": "stream",
     "text": [
      "['누구나', 'Aiot', '수업에서', '텍스트', '전처리', '과정을', '배웠다']\n",
      "['누구나', '수업에서', '전처리', '과정을', '배웠다']\n"
     ]
    },
    {
     "data": {
      "text/plain": [
       "'누구나 수업에서 전처리 과정을 배웠다'"
      ]
     },
     "execution_count": 8,
     "metadata": {},
     "output_type": "execute_result"
    }
   ],
   "source": [
    "stop_words = {'Aiot', '텍스트'}\n",
    "sp_text = text.split(' ')\n",
    "print(sp_text)\n",
    "new_text = []\n",
    "for w in sp_text:\n",
    "    if w not in stop_words:\n",
    "        new_text.append(w)\n",
    "print(new_text)\n",
    "' '.join(new_text)"
   ]
  },
  {
   "cell_type": "code",
   "execution_count": 9,
   "id": "c9f19ac2",
   "metadata": {},
   "outputs": [
    {
     "data": {
      "text/plain": [
       "'누구나 수업에서 전처리 과정을 배웠다'"
      ]
     },
     "execution_count": 9,
     "metadata": {},
     "output_type": "execute_result"
    }
   ],
   "source": [
    "new_text = [w for w in sp_text if w not in stop_words]\n",
    "' '.join(new_text)"
   ]
  },
  {
   "cell_type": "code",
   "execution_count": 16,
   "id": "e57a4ca3",
   "metadata": {},
   "outputs": [
    {
     "data": {
      "text/plain": [
       "['누구나', 'Aiot', '수업에서^^', '텍스트', '전처리', '과정을', '배웠다', '(', '__', ')']"
      ]
     },
     "execution_count": 16,
     "metadata": {},
     "output_type": "execute_result"
    }
   ],
   "source": [
    "import nltk\n",
    "from nltk.tokenize import word_tokenize\n",
    "from nltk.tag import pos_tag\n",
    "\n",
    "# nltk.download()\n",
    "\n",
    "text = '누구나 Aiot 수업에서^^ 텍스트 전처리 과정을 배웠다(__)'\n",
    "nltk_tok = word_tokenize(text)\n",
    "nltk_tok"
   ]
  },
  {
   "cell_type": "code",
   "execution_count": 17,
   "id": "9f239a11",
   "metadata": {},
   "outputs": [
    {
     "data": {
      "text/plain": [
       "[('누구나', 'JJ'),\n",
       " ('Aiot', 'NNP'),\n",
       " ('수업에서^^', 'NNP'),\n",
       " ('텍스트', 'NNP'),\n",
       " ('전처리', 'NNP'),\n",
       " ('과정을', 'NNP'),\n",
       " ('배웠다', 'NNP'),\n",
       " ('(', '('),\n",
       " ('__', 'NNP'),\n",
       " (')', ')')]"
      ]
     },
     "execution_count": 17,
     "metadata": {},
     "output_type": "execute_result"
    }
   ],
   "source": [
    "pos_tag(nltk_tok)"
   ]
  },
  {
   "cell_type": "code",
   "execution_count": 14,
   "id": "bf7dff44",
   "metadata": {},
   "outputs": [
    {
     "data": {
      "text/plain": [
       "[Token(form='누구', tag='NP', start=0, len=2),\n",
       " Token(form='나', tag='JX', start=2, len=1),\n",
       " Token(form='Aiot', tag='SL', start=4, len=4),\n",
       " Token(form='수업', tag='NNG', start=9, len=2),\n",
       " Token(form='에서', tag='JKB', start=11, len=2),\n",
       " Token(form='^^', tag='SW', start=13, len=2),\n",
       " Token(form='텍스트', tag='NNG', start=16, len=3),\n",
       " Token(form='전', tag='MM', start=20, len=1),\n",
       " Token(form='처리', tag='NNG', start=21, len=2),\n",
       " Token(form='과정', tag='NNG', start=24, len=2),\n",
       " Token(form='을', tag='JKO', start=26, len=1),\n",
       " Token(form='배우', tag='VV', start=28, len=2),\n",
       " Token(form='었', tag='EP', start=29, len=1),\n",
       " Token(form='다', tag='EF', start=30, len=1),\n",
       " Token(form='(', tag='SSO', start=31, len=1),\n",
       " Token(form='__', tag='SW', start=32, len=2),\n",
       " Token(form=')', tag='SSC', start=34, len=1)]"
      ]
     },
     "execution_count": 14,
     "metadata": {},
     "output_type": "execute_result"
    }
   ],
   "source": [
    "from kiwipiepy import Kiwi\n",
    "\n",
    "text = '누구나 Aiot 수업에서^^ 텍스트 전처리 과정을 배웠다(__)'\n",
    "kw = Kiwi()\n",
    "kw_tok = kw.tokenize(text)\n",
    "kw_tok"
   ]
  },
  {
   "cell_type": "code",
   "execution_count": 31,
   "id": "8d3ed118",
   "metadata": {},
   "outputs": [],
   "source": [
    "import sentencepiece as spm\n",
    "\n",
    "spm.SentencePieceTrainer.train(input='./aiottext.txt', \n",
    "                                model_prefix='./model/aiottext', \n",
    "                                vocab_size=700)\n"
   ]
  },
  {
   "cell_type": "code",
   "execution_count": 32,
   "id": "cb84774f",
   "metadata": {},
   "outputs": [
    {
     "data": {
      "text/plain": [
       "['▁',\n",
       " '누',\n",
       " '구',\n",
       " '나',\n",
       " '▁',\n",
       " 'A',\n",
       " 'i',\n",
       " 'o',\n",
       " 't',\n",
       " '▁수',\n",
       " '업',\n",
       " '에서',\n",
       " '^^',\n",
       " '▁',\n",
       " '텍',\n",
       " '스',\n",
       " '트',\n",
       " '▁전',\n",
       " '처',\n",
       " '리',\n",
       " '▁과',\n",
       " '정',\n",
       " '을',\n",
       " '▁',\n",
       " '배',\n",
       " '웠',\n",
       " '다',\n",
       " '(',\n",
       " '__',\n",
       " ')']"
      ]
     },
     "execution_count": 32,
     "metadata": {},
     "output_type": "execute_result"
    }
   ],
   "source": [
    "text = '누구나 Aiot 수업에서^^ 텍스트 전처리 과정을 배웠다(__)'\n",
    "\n",
    "sp = spm.SentencePieceProcessor(model_file='./model/aiottext.model')\n",
    "sp_list = sp.encode(text, out_type=str)\n",
    "sp_list"
   ]
  },
  {
   "cell_type": "code",
   "execution_count": 35,
   "id": "dd69d8fd",
   "metadata": {},
   "outputs": [
    {
     "data": {
      "text/html": [
       "<div>\n",
       "<style scoped>\n",
       "    .dataframe tbody tr th:only-of-type {\n",
       "        vertical-align: middle;\n",
       "    }\n",
       "\n",
       "    .dataframe tbody tr th {\n",
       "        vertical-align: top;\n",
       "    }\n",
       "\n",
       "    .dataframe thead th {\n",
       "        text-align: right;\n",
       "    }\n",
       "</style>\n",
       "<table border=\"1\" class=\"dataframe\">\n",
       "  <thead>\n",
       "    <tr style=\"text-align: right;\">\n",
       "      <th></th>\n",
       "      <th>text</th>\n",
       "      <th>rat</th>\n",
       "      <th>date</th>\n",
       "    </tr>\n",
       "  </thead>\n",
       "  <tbody>\n",
       "    <tr>\n",
       "      <th>0</th>\n",
       "      <td>게임을 항상 재미있게 플레이하고 있는 유저입니다. 게임을 플레이하다보면 습격을 끝내...</td>\n",
       "      <td>3</td>\n",
       "      <td>2022년 3월 19일</td>\n",
       "    </tr>\n",
       "    <tr>\n",
       "      <th>1</th>\n",
       "      <td>운영자님 이건 진짜 현질하게 끔 유도한거임 난이도가 왜이렇게 어려움? 처음 하는사람...</td>\n",
       "      <td>1</td>\n",
       "      <td>2022년 3월 17일</td>\n",
       "    </tr>\n",
       "    <tr>\n",
       "      <th>2</th>\n",
       "      <td>이런 게임류가 다 그렇듯 시간을 투자해야함. 2-10 스테부터 막힌다고하는데 대부분...</td>\n",
       "      <td>5</td>\n",
       "      <td>2022년 3월 18일</td>\n",
       "    </tr>\n",
       "    <tr>\n",
       "      <th>3</th>\n",
       "      <td>재미있게 하고있는데요. 현재 2022년 3월 19일 토요일 기준으로, 스테이지를 클...</td>\n",
       "      <td>5</td>\n",
       "      <td>2022년 3월 18일</td>\n",
       "    </tr>\n",
       "    <tr>\n",
       "      <th>4</th>\n",
       "      <td>초창기에 도트컨셉 디펜스 재밌었죠. 결국 시간이 지나가고 흥미가 점점 떨어지기 마련...</td>\n",
       "      <td>2</td>\n",
       "      <td>2022년 3월 14일</td>\n",
       "    </tr>\n",
       "    <tr>\n",
       "      <th>...</th>\n",
       "      <td>...</td>\n",
       "      <td>...</td>\n",
       "      <td>...</td>\n",
       "    </tr>\n",
       "    <tr>\n",
       "      <th>995</th>\n",
       "      <td>재밌는데.. 부활할려고 광고를 보니까 갑자기 게임이 꺼져요 그게꼭 아니어도 플레이중...</td>\n",
       "      <td>3</td>\n",
       "      <td>2020년 10월 26일</td>\n",
       "    </tr>\n",
       "    <tr>\n",
       "      <th>996</th>\n",
       "      <td>과금은 1만언 미만 하긴햇는데.. 과금한거란 안한거랑 차이없어요.. 과금안해도 신규...</td>\n",
       "      <td>4</td>\n",
       "      <td>2020년 11월 28일</td>\n",
       "    </tr>\n",
       "    <tr>\n",
       "      <th>997</th>\n",
       "      <td>아닠ㅋㅋㅋㅋㅋㅋㅋㅋㅋㅋㅋㅋ뭔뎈ㅋㅋㅋㅋㅋㅋㅋㅋㅋ미친ㅋㅋㅋㅋㅋㅋㅋㅋㅋㅋㅋㅋㅋㅋ튜토리얼 ...</td>\n",
       "      <td>5</td>\n",
       "      <td>2020년 11월 9일</td>\n",
       "    </tr>\n",
       "    <tr>\n",
       "      <th>998</th>\n",
       "      <td>오랜만에 진짜 재밌게한 게임. 중독성있고 재미있는편. 후반가면 머리도 많이 써야하고...</td>\n",
       "      <td>5</td>\n",
       "      <td>2021년 4월 18일</td>\n",
       "    </tr>\n",
       "    <tr>\n",
       "      <th>999</th>\n",
       "      <td>제가좋아하는 게임종류입니다 뭐 조금렉걸리기는 하지만 그정도는일도아니죠 여기서 제가하...</td>\n",
       "      <td>5</td>\n",
       "      <td>2020년 10월 21일</td>\n",
       "    </tr>\n",
       "  </tbody>\n",
       "</table>\n",
       "<p>1000 rows × 3 columns</p>\n",
       "</div>"
      ],
      "text/plain": [
       "                                                  text  rat           date\n",
       "0    게임을 항상 재미있게 플레이하고 있는 유저입니다. 게임을 플레이하다보면 습격을 끝내...    3   2022년 3월 19일\n",
       "1    운영자님 이건 진짜 현질하게 끔 유도한거임 난이도가 왜이렇게 어려움? 처음 하는사람...    1   2022년 3월 17일\n",
       "2    이런 게임류가 다 그렇듯 시간을 투자해야함. 2-10 스테부터 막힌다고하는데 대부분...    5   2022년 3월 18일\n",
       "3    재미있게 하고있는데요. 현재 2022년 3월 19일 토요일 기준으로, 스테이지를 클...    5   2022년 3월 18일\n",
       "4    초창기에 도트컨셉 디펜스 재밌었죠. 결국 시간이 지나가고 흥미가 점점 떨어지기 마련...    2   2022년 3월 14일\n",
       "..                                                 ...  ...            ...\n",
       "995  재밌는데.. 부활할려고 광고를 보니까 갑자기 게임이 꺼져요 그게꼭 아니어도 플레이중...    3  2020년 10월 26일\n",
       "996  과금은 1만언 미만 하긴햇는데.. 과금한거란 안한거랑 차이없어요.. 과금안해도 신규...    4  2020년 11월 28일\n",
       "997  아닠ㅋㅋㅋㅋㅋㅋㅋㅋㅋㅋㅋㅋ뭔뎈ㅋㅋㅋㅋㅋㅋㅋㅋㅋ미친ㅋㅋㅋㅋㅋㅋㅋㅋㅋㅋㅋㅋㅋㅋ튜토리얼 ...    5   2020년 11월 9일\n",
       "998  오랜만에 진짜 재밌게한 게임. 중독성있고 재미있는편. 후반가면 머리도 많이 써야하고...    5   2021년 4월 18일\n",
       "999  제가좋아하는 게임종류입니다 뭐 조금렉걸리기는 하지만 그정도는일도아니죠 여기서 제가하...    5  2020년 10월 21일\n",
       "\n",
       "[1000 rows x 3 columns]"
      ]
     },
     "execution_count": 35,
     "metadata": {},
     "output_type": "execute_result"
    }
   ],
   "source": [
    "# './review.csv' 를 데이터프레임으로 읽어온 후 text컬럼의 모든 문장을 전처리후 리스트로 출력 [[토큰화],[토큰화],[토큰화]]\n",
    "# 1. 특수 문자 제거\n",
    "# 2. 불용어 제거 (항상, 유저, 게임, 현재)\n",
    "# 3. kiwipiepy 를 활용해 일반 명사, 고유 명사, 수사, 대명사만 가져와 토큰화\n",
    "# https://github.com/bab2min/kiwipiepy\n",
    "# 추가 옵션! 토큰화 된 리스트를 join하여 문자열로 만들고 데이터프레임의 re_text컬럼에 추가\n",
    "\n",
    "import pandas as pd"
   ]
  },
  {
   "cell_type": "code",
   "execution_count": null,
   "id": "9dbac5a5",
   "metadata": {},
   "outputs": [],
   "source": []
  }
 ],
 "metadata": {
  "kernelspec": {
   "display_name": "Python 3 (ipykernel)",
   "language": "python",
   "name": "python3"
  },
  "language_info": {
   "codemirror_mode": {
    "name": "ipython",
    "version": 3
   },
   "file_extension": ".py",
   "mimetype": "text/x-python",
   "name": "python",
   "nbconvert_exporter": "python",
   "pygments_lexer": "ipython3",
   "version": "3.10.8"
  }
 },
 "nbformat": 4,
 "nbformat_minor": 5
}
